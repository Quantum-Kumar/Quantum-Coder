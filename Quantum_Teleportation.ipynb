{
  "cells": [
    {
      "cell_type": "code",
      "execution_count": null,
      "metadata": {
        "colab": {
          "base_uri": "https://localhost:8080/"
        },
        "id": "Qo7Ps563tfTz",
        "outputId": "ee00ccd2-6b10-4f1a-cbd3-64d5337a511b"
      },
      "outputs": [
        {
          "name": "stdout",
          "output_type": "stream",
          "text": [
                      ]
        }
      ],
      "source": [
        "!pip install qiskit\n",
        "!pip install qiskit.Aer\n",
        "!pip install pylatexenc\n",
        "!pip install qiskit-ibmq-provider\n",
        "!pip install qiskit-ibm-runtime"
      ]
    },
    {
      "cell_type": "code",
      "execution_count": null,
      "metadata": {
        "id": "5CeoH-GHt-4P"
      },
      "outputs": [],
      "source": [
        "from qiskit import *\n",
        "from qiskit.quantum_info import Statevector, DensityMatrix, SparsePauliOp\n",
        "from qiskit.tools.visualization import plot_bloch_multivector, plot_state_qsphere, plot_histogram, array_to_latex\n",
        "from qiskit import QuantumCircuit, Aer, execute, transpile, QuantumRegister, ClassicalRegister\n",
        "from numpy import pi"
      ]
    },
    {
      "cell_type": "code",
      "execution_count": null,
      "metadata": {
        "colab": {
          "base_uri": "https://localhost:8080/",
          "height": 250
        },
        "id": "i3GvsBK_t-7z",
        "outputId": "b720ec61-9ce5-473a-ca7e-bcec8afe072d"
      },
      "outputs": [
        {
          "data": {
            "text/plain": [
            ]
          },
          "execution_count": 53,
          "metadata": {},
          "output_type": "execute_result"
        }
      ],
      "source": [
        "circuit = QuantumCircuit(3,2)\n",
        "circuit.h(2)\n",
        "circuit.barrier()\n",
        "\n",
        "# create Bell state pair\n",
        "circuit.h(1)\n",
        "circuit.cx(1, 0)\n",
        "circuit.barrier()\n",
        "\n",
        "# performs Bell state measurement\n",
        "circuit.cx(2, 1)\n",
        "circuit.h(2)\n",
        "circuit.barrier()\n",
        "\n",
        "circuit.cx(1,0)\n",
        "circuit.cz(2,0)\n",
        "\n",
        "circuit.barrier()\n",
        "\n",
        "# Transforms qubit based on measurement results\n",
        "#circuit.x(q0).c_if(crx, 1)  # apply X gate if cr_x is 1\n",
        "#circuit.z(q0).c_if(crz, 1)  # apply Z gate if cr_z is 1\n",
        "circuit.measure(0,0)\n",
        "circuit.draw(output='mpl')"
      ]
    },
    {
      "cell_type": "code",
      "execution_count": null,
      "metadata": {
        "id": "ulDMloidvs8t"
      },
      "outputs": [],
      "source": []
    },
    {
      "cell_type": "code",
      "execution_count": null,
      "metadata": {
        "id": "R7CqV-Iq8FsF"
      },
      "outputs": [],
      "source": []
    },
    {
      "cell_type": "code",
      "execution_count": null,
      "metadata": {
        "colab": {
          "base_uri": "https://localhost:8080/",
          "height": 39
        },
        "id": "vGXZsIBCn_Jp",
        "outputId": "a96d07ea-c9bf-4935-fb71-f164494107ab"
      },
      "outputs": [
        {
          "data": {
            "text/latex": "$$\n\\text{statevector = }\n\n\\begin{bmatrix}\n\\frac{1}{2} & 0 & \\frac{1}{2} & 0 & \\frac{1}{2} & 0 & \\frac{1}{2} & 0  \\\\\n \\end{bmatrix}\n$$",
            "text/plain": [
              "<IPython.core.display.Latex object>"
            ]
          },
          "execution_count": 54,
          "metadata": {},
          "output_type": "execute_result"
        }
      ],
      "source": [
        "simulator = Aer.get_backend('statevector_simulator')\n",
        "result = execute(circuit, backend=simulator).result()\n",
        "statevector = result.get_statevector()\n",
        "array_to_latex(statevector, prefix=\"\\\\text{statevector = }\\n\")"
      ]
    },
    {
      "cell_type": "code",
      "execution_count": null,
      "metadata": {
        "colab": {
          "base_uri": "https://localhost:8080/",
          "height": 236
        },
        "id": "cqvevFF3ntzJ",
        "outputId": "566559fb-0a69-4d52-d8f0-d1f91a45fc8e"
      },
      "outputs": [
        {
          "data": {
            "text/plain": [
            ]
          },
          "execution_count": 55,
          "metadata": {},
          "output_type": "execute_result"
        }
      ],
      "source": [
        "plot_bloch_multivector(statevector)"
      ]
    },
    {
      "cell_type": "code",
      "execution_count": null,
      "metadata": {
        "colab": {
          "base_uri": "https://localhost:8080/",
          "height": 461
        },
        "id": "yxfIcj6C8F5z",
        "outputId": "27ac18e7-4cc2-4c13-f0a1-b3cfaac0d917"
      },
      "outputs": [
        {
          "data": {
            "text/plain": [
            ]
          },
          "execution_count": 56,
          "metadata": {},
          "output_type": "execute_result"
        }
      ],
      "source": [
        "simulator = Aer.get_backend('qasm_simulator')\n",
        "result = execute(circuit, backend=simulator, shot =3).result()\n",
        "array_to_latex(statevector)\n",
        "\n",
        "plot_histogram(result.get_counts())"
      ]
    },
    {
      "cell_type": "code",
      "execution_count": null,
      "metadata": {
        "colab": {
          "base_uri": "https://localhost:8080/"
        },
        "id": "9R4Y3v_Zx0DX",
        "outputId": "63358dc8-1550-4084-a93c-d8eff512242c"
      },
      "outputs": [
        {
          "name": "stderr",
          "output_type": "stream",
          "text": [
          ]
        }
      ],
      "source": [
        "from qiskit_ibm_runtime import QiskitRuntimeService\n",
        "from qiskit.tools.monitor import job_monitor\n",
        "IBMQ.save_account('Token Number here')\n",
        "provider = IBMQ.load_account()"
      ]
    },
    {
      "cell_type": "code",
      "execution_count": null,
      "metadata": {
        "colab": {
          "background_save": true,
          "base_uri": "https://localhost:8080/"
        },
        "id": "7l9_PEm9x05n",
        "outputId": "943b0d30-8508-4f21-9189-c958d12d8c26"
      },
      "outputs": [
        {
          "name": "stdout",
          "output_type": "stream",
          "text": [
            "Job Status: job is queued (None)"
          ]
        }
      ],
      "source": [
        "qcomp = provider.get_backend('ibm_machine')\n",
        "job = execute(circuit, backend = qcomp)\n",
        "job_monitor(job)"
      ]
    },
    {
      "cell_type": "code",
      "execution_count": null,
      "metadata": {
        "id": "-WAqdBYfxX9l"
      },
      "outputs": [],
      "source": [
        "qcomp_result = job.result()\n",
        "plot_histogram(qcomp_result.get_counts())"
      ]
    },
    {
      "cell_type": "code",
      "execution_count": null,
      "metadata": {
        "id": "PGnmUeN0xYC5"
      },
      "outputs": [],
      "source": []
    },
    {
      "cell_type": "code",
      "execution_count": null,
      "metadata": {
        "id": "3KR6rHajxYGZ"
      },
      "outputs": [],
      "source": []
    }
  ],
  "metadata": {
    "colab": {
      "provenance": []
    },
    "kernelspec": {
      "display_name": "Python 3",
      "name": "python3"
    },
    "language_info": {
      "name": "python"
    }
  },
  "nbformat": 4,
  "nbformat_minor": 0
}
